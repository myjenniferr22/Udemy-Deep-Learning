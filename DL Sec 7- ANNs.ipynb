{
 "cells": [
  {
   "cell_type": "markdown",
   "metadata": {},
   "source": [
    "# Section 7: Basic Artificial Neural Networks - ANNs"
   ]
  },
  {
   "cell_type": "markdown",
   "metadata": {},
   "source": [
    "## 40-42. Keras Syntax Basic"
   ]
  },
  {
   "cell_type": "markdown",
   "metadata": {},
   "source": [
    "### Choosing an optimizer and loss \n",
    "\n",
    "Keep in mind what kind of problem we are tying to solove:\n",
    "\n",
    "        # For a multi-class classification problem\n",
    "        model.compile(optimizer='rmsprop',\n",
    "                      loss = 'categorical_crossentropy',\n",
    "                      metrics=['accuracy'])\n",
    "        \n",
    "        # For a binary classification problem\n",
    "        model.compile(optimizer='rmsprop',\n",
    "                      loss = 'binary_crossentropy',\n",
    "                      metrics=['accuracy'])\n",
    "        \n",
    "        # For a mean squared error regresssion problem\n",
    "        model.compile(optimizer='rmsprop',\n",
    "                      loss='mse')\n",
    "        \n"
   ]
  },
  {
   "cell_type": "markdown",
   "metadata": {},
   "source": [
    "### Training\n",
    "\n",
    "Below are some common definitions that are necessary to know and understand to correctly utilize Keras:\n",
    "\n",
    "* Sample: one element of a dataset.\n",
    "    * Example: one image is a sample in a convolutional network\n",
    "    * Example: one audio file is a sample for a speech recognition model\n",
    "* ***Batch***: a set of N samples. The samples in a batch are processed independently, in parallel. If training, a batch results in only one update to the model.A batch generally approximates the distribution of the input data better than a single input. The larger the batch, the better the approximation; however, it is also true that the batch will take longer to process and will still result in only one update. For inference (evaluate/predict), it is recommended to pick a batch size that is as large as you can afford without going out of memory (since larger batches will usually result in faster evaluation/prediction).\n",
    "* ***Epoch***: an arbitrary cutoff, generally defined as \"one pass over the entire dataset\", used to separate training into distinct phases, which is useful for logging and periodic evaluation.\n",
    "* When using validation_data or validation_split with the fit method of Keras models, evaluation will be run at the end of every epoch.\n",
    "* Within Keras, there is the ability to add callbacks specifically designed to be run at the end of an epoch. Examples of these are learning rate changes and model checkpointing (saving)."
   ]
  },
  {
   "cell_type": "markdown",
   "metadata": {},
   "source": [
    "**Part One**: Preparing the Data"
   ]
  },
  {
   "cell_type": "code",
   "execution_count": 1,
   "metadata": {},
   "outputs": [],
   "source": [
    "import pandas as pd\n",
    "import numpy as np\n",
    "import seaborn as sns"
   ]
  },
  {
   "cell_type": "code",
   "execution_count": 4,
   "metadata": {},
   "outputs": [],
   "source": [
    "df = pd.read_csv('TF_2_Notebooks_and_Data/DATA/fake_reg.csv')"
   ]
  },
  {
   "cell_type": "code",
   "execution_count": 5,
   "metadata": {},
   "outputs": [
    {
     "data": {
      "text/html": [
       "<div>\n",
       "<style scoped>\n",
       "    .dataframe tbody tr th:only-of-type {\n",
       "        vertical-align: middle;\n",
       "    }\n",
       "\n",
       "    .dataframe tbody tr th {\n",
       "        vertical-align: top;\n",
       "    }\n",
       "\n",
       "    .dataframe thead th {\n",
       "        text-align: right;\n",
       "    }\n",
       "</style>\n",
       "<table border=\"1\" class=\"dataframe\">\n",
       "  <thead>\n",
       "    <tr style=\"text-align: right;\">\n",
       "      <th></th>\n",
       "      <th>price</th>\n",
       "      <th>feature1</th>\n",
       "      <th>feature2</th>\n",
       "    </tr>\n",
       "  </thead>\n",
       "  <tbody>\n",
       "    <tr>\n",
       "      <th>0</th>\n",
       "      <td>461.527929</td>\n",
       "      <td>999.787558</td>\n",
       "      <td>999.766096</td>\n",
       "    </tr>\n",
       "    <tr>\n",
       "      <th>1</th>\n",
       "      <td>548.130011</td>\n",
       "      <td>998.861615</td>\n",
       "      <td>1001.042403</td>\n",
       "    </tr>\n",
       "    <tr>\n",
       "      <th>2</th>\n",
       "      <td>410.297162</td>\n",
       "      <td>1000.070267</td>\n",
       "      <td>998.844015</td>\n",
       "    </tr>\n",
       "    <tr>\n",
       "      <th>3</th>\n",
       "      <td>540.382220</td>\n",
       "      <td>999.952251</td>\n",
       "      <td>1000.440940</td>\n",
       "    </tr>\n",
       "    <tr>\n",
       "      <th>4</th>\n",
       "      <td>546.024553</td>\n",
       "      <td>1000.446011</td>\n",
       "      <td>1000.338531</td>\n",
       "    </tr>\n",
       "  </tbody>\n",
       "</table>\n",
       "</div>"
      ],
      "text/plain": [
       "        price     feature1     feature2\n",
       "0  461.527929   999.787558   999.766096\n",
       "1  548.130011   998.861615  1001.042403\n",
       "2  410.297162  1000.070267   998.844015\n",
       "3  540.382220   999.952251  1000.440940\n",
       "4  546.024553  1000.446011  1000.338531"
      ]
     },
     "execution_count": 5,
     "metadata": {},
     "output_type": "execute_result"
    }
   ],
   "source": [
    "# Regression problem - price is up to feature1 and feature2\n",
    "df.head()"
   ]
  },
  {
   "cell_type": "code",
   "execution_count": 6,
   "metadata": {},
   "outputs": [
    {
     "data": {
      "text/plain": [
       "<seaborn.axisgrid.PairGrid at 0x7f9c0ba335e0>"
      ]
     },
     "execution_count": 6,
     "metadata": {},
     "output_type": "execute_result"
    },
    {
     "data": {
      "image/png": "[encoded data removed]",
      "text/plain": [
       "<Figure size 540x540 with 12 Axes>"
      ]
     },
     "metadata": {
      "needs_background": "light"
     },
     "output_type": "display_data"
    }
   ],
   "source": [
    "# Create a pair plot of the dataframe to check correlation \n",
    "sns.pairplot(df)"
   ]
  },
  {
   "cell_type": "code",
   "execution_count": 7,
   "metadata": {},
   "outputs": [],
   "source": [
    "# Create a test train split \n",
    "from sklearn.model_selection import train_test_split"
   ]
  },
  {
   "cell_type": "code",
   "execution_count": 8,
   "metadata": {},
   "outputs": [],
   "source": [
    "X = df[['feature1','feature2']].values\n",
    "# We need pass in numpy array instead of data frames using .values"
   ]
  },
  {
   "cell_type": "code",
   "execution_count": 9,
   "metadata": {},
   "outputs": [],
   "source": [
    "y = df['price'].values"
   ]
  },
  {
   "cell_type": "code",
   "execution_count": 10,
   "metadata": {},
   "outputs": [],
   "source": [
    "X_train, X_test, y_train, y_test = train_test_split(X, y, test_size=0.3, random_state=42)"
   ]
  },
  {
   "cell_type": "code",
   "execution_count": 13,
   "metadata": {},
   "outputs": [
    {
     "data": {
      "text/plain": [
       "(300, 2)"
      ]
     },
     "execution_count": 13,
     "metadata": {},
     "output_type": "execute_result"
    }
   ],
   "source": [
    "X_test.shape # 30% of our data are in test set "
   ]
  },
  {
   "cell_type": "code",
   "execution_count": 14,
   "metadata": {},
   "outputs": [],
   "source": [
    "# It is important to scale our data\n",
    "from sklearn.preprocessing import MinMaxScaler"
   ]
  },
  {
   "cell_type": "code",
   "execution_count": 15,
   "metadata": {},
   "outputs": [
    {
     "name": "stdout",
     "output_type": "stream",
     "text": [
      "Help on class MinMaxScaler in module sklearn.preprocessing._data:\n",
      "\n",
      "class MinMaxScaler(sklearn.base.TransformerMixin, sklearn.base.BaseEstimator)\n",
      " |  MinMaxScaler(feature_range=(0, 1), *, copy=True)\n",
      " |  \n",
      " |  Transform features by scaling each feature to a given range.\n",
      " |  \n",
      " |  This estimator scales and translates each feature individually such\n",
      " |  that it is in the given range on the training set, e.g. between\n",
      " |  zero and one.\n",
      " |  \n",
      " |  The transformation is given by::\n",
      " |  \n",
      " |      X_std = (X - X.min(axis=0)) / (X.max(axis=0) - X.min(axis=0))\n",
      " |      X_scaled = X_std * (max - min) + min\n",
      " |  \n",
      " |  where min, max = feature_range.\n",
      " |  \n",
      " |  This transformation is often used as an alternative to zero mean,\n",
      " |  unit variance scaling.\n",
      " |  \n",
      " |  Read more in the :ref:`User Guide <preprocessing_scaler>`.\n",
      " |  \n",
      " |  Parameters\n",
      " |  ----------\n",
      " |  feature_range : tuple (min, max), default=(0, 1)\n",
      " |      Desired range of transformed data.\n",
      " |  \n",
      " |  copy : bool, default=True\n",
      " |      Set to False to perform inplace row normalization and avoid a\n",
      " |      copy (if the input is already a numpy array).\n",
      " |  \n",
      " |  Attributes\n",
      " |  ----------\n",
      " |  min_ : ndarray of shape (n_features,)\n",
      " |      Per feature adjustment for minimum. Equivalent to\n",
      " |      ``min - X.min(axis=0) * self.scale_``\n",
      " |  \n",
      " |  scale_ : ndarray of shape (n_features,)\n",
      " |      Per feature relative scaling of the data. Equivalent to\n",
      " |      ``(max - min) / (X.max(axis=0) - X.min(axis=0))``\n",
      " |  \n",
      " |      .. versionadded:: 0.17\n",
      " |         *scale_* attribute.\n",
      " |  \n",
      " |  data_min_ : ndarray of shape (n_features,)\n",
      " |      Per feature minimum seen in the data\n",
      " |  \n",
      " |      .. versionadded:: 0.17\n",
      " |         *data_min_*\n",
      " |  \n",
      " |  data_max_ : ndarray of shape (n_features,)\n",
      " |      Per feature maximum seen in the data\n",
      " |  \n",
      " |      .. versionadded:: 0.17\n",
      " |         *data_max_*\n",
      " |  \n",
      " |  data_range_ : ndarray of shape (n_features,)\n",
      " |      Per feature range ``(data_max_ - data_min_)`` seen in the data\n",
      " |  \n",
      " |      .. versionadded:: 0.17\n",
      " |         *data_range_*\n",
      " |  \n",
      " |  n_samples_seen_ : int\n",
      " |      The number of samples processed by the estimator.\n",
      " |      It will be reset on new calls to fit, but increments across\n",
      " |      ``partial_fit`` calls.\n",
      " |  \n",
      " |  Examples\n",
      " |  --------\n",
      " |  >>> from sklearn.preprocessing import MinMaxScaler\n",
      " |  >>> data = [[-1, 2], [-0.5, 6], [0, 10], [1, 18]]\n",
      " |  >>> scaler = MinMaxScaler()\n",
      " |  >>> print(scaler.fit(data))\n",
      " |  MinMaxScaler()\n",
      " |  >>> print(scaler.data_max_)\n",
      " |  [ 1. 18.]\n",
      " |  >>> print(scaler.transform(data))\n",
      " |  [[0.   0.  ]\n",
      " |   [0.25 0.25]\n",
      " |   [0.5  0.5 ]\n",
      " |   [1.   1.  ]]\n",
      " |  >>> print(scaler.transform([[2, 2]]))\n",
      " |  [[1.5 0. ]]\n",
      " |  \n",
      " |  See also\n",
      " |  --------\n",
      " |  minmax_scale: Equivalent function without the estimator API.\n",
      " |  \n",
      " |  Notes\n",
      " |  -----\n",
      " |  NaNs are treated as missing values: disregarded in fit, and maintained in\n",
      " |  transform.\n",
      " |  \n",
      " |  For a comparison of the different scalers, transformers, and normalizers,\n",
      " |  see :ref:`examples/preprocessing/plot_all_scaling.py\n",
      " |  <sphx_glr_auto_examples_preprocessing_plot_all_scaling.py>`.\n",
      " |  \n",
      " |  Method resolution order:\n",
      " |      MinMaxScaler\n",
      " |      sklearn.base.TransformerMixin\n",
      " |      sklearn.base.BaseEstimator\n",
      " |      builtins.object\n",
      " |  \n",
      " |  Methods defined here:\n",
      " |  \n",
      " |  __init__(self, feature_range=(0, 1), *, copy=True)\n",
      " |      Initialize self.  See help(type(self)) for accurate signature.\n",
      " |  \n",
      " |  fit(self, X, y=None)\n",
      " |      Compute the minimum and maximum to be used for later scaling.\n",
      " |      \n",
      " |      Parameters\n",
      " |      ----------\n",
      " |      X : array-like of shape (n_samples, n_features)\n",
      " |          The data used to compute the per-feature minimum and maximum\n",
      " |          used for later scaling along the features axis.\n",
      " |      \n",
      " |      y : None\n",
      " |          Ignored.\n",
      " |      \n",
      " |      Returns\n",
      " |      -------\n",
      " |      self : object\n",
      " |          Fitted scaler.\n",
      " |  \n",
      " |  inverse_transform(self, X)\n",
      " |      Undo the scaling of X according to feature_range.\n",
      " |      \n",
      " |      Parameters\n",
      " |      ----------\n",
      " |      X : array-like of shape (n_samples, n_features)\n",
      " |          Input data that will be transformed. It cannot be sparse.\n",
      " |      \n",
      " |      Returns\n",
      " |      -------\n",
      " |      Xt : array-like of shape (n_samples, n_features)\n",
      " |          Transformed data.\n",
      " |  \n",
      " |  partial_fit(self, X, y=None)\n",
      " |      Online computation of min and max on X for later scaling.\n",
      " |      \n",
      " |      All of X is processed as a single batch. This is intended for cases\n",
      " |      when :meth:`fit` is not feasible due to very large number of\n",
      " |      `n_samples` or because X is read from a continuous stream.\n",
      " |      \n",
      " |      Parameters\n",
      " |      ----------\n",
      " |      X : array-like of shape (n_samples, n_features)\n",
      " |          The data used to compute the mean and standard deviation\n",
      " |          used for later scaling along the features axis.\n",
      " |      \n",
      " |      y : None\n",
      " |          Ignored.\n",
      " |      \n",
      " |      Returns\n",
      " |      -------\n",
      " |      self : object\n",
      " |          Transformer instance.\n",
      " |  \n",
      " |  transform(self, X)\n",
      " |      Scale features of X according to feature_range.\n",
      " |      \n",
      " |      Parameters\n",
      " |      ----------\n",
      " |      X : array-like of shape (n_samples, n_features)\n",
      " |          Input data that will be transformed.\n",
      " |      \n",
      " |      Returns\n",
      " |      -------\n",
      " |      Xt : array-like of shape (n_samples, n_features)\n",
      " |          Transformed data.\n",
      " |  \n",
      " |  ----------------------------------------------------------------------\n",
      " |  Methods inherited from sklearn.base.TransformerMixin:\n",
      " |  \n",
      " |  fit_transform(self, X, y=None, **fit_params)\n",
      " |      Fit to data, then transform it.\n",
      " |      \n",
      " |      Fits transformer to X and y with optional parameters fit_params\n",
      " |      and returns a transformed version of X.\n",
      " |      \n",
      " |      Parameters\n",
      " |      ----------\n",
      " |      X : {array-like, sparse matrix, dataframe} of shape                 (n_samples, n_features)\n",
      " |      \n",
      " |      y : ndarray of shape (n_samples,), default=None\n",
      " |          Target values.\n",
      " |      \n",
      " |      **fit_params : dict\n",
      " |          Additional fit parameters.\n",
      " |      \n",
      " |      Returns\n",
      " |      -------\n",
      " |      X_new : ndarray array of shape (n_samples, n_features_new)\n",
      " |          Transformed array.\n",
      " |  \n",
      " |  ----------------------------------------------------------------------\n",
      " |  Data descriptors inherited from sklearn.base.TransformerMixin:\n",
      " |  \n",
      " |  __dict__\n",
      " |      dictionary for instance variables (if defined)\n",
      " |  \n",
      " |  __weakref__\n",
      " |      list of weak references to the object (if defined)\n",
      " |  \n",
      " |  ----------------------------------------------------------------------\n",
      " |  Methods inherited from sklearn.base.BaseEstimator:\n",
      " |  \n",
      " |  __getstate__(self)\n",
      " |  \n",
      " |  __repr__(self, N_CHAR_MAX=700)\n",
      " |      Return repr(self).\n",
      " |  \n",
      " |  __setstate__(self, state)\n",
      " |  \n",
      " |  get_params(self, deep=True)\n",
      " |      Get parameters for this estimator.\n",
      " |      \n",
      " |      Parameters\n",
      " |      ----------\n",
      " |      deep : bool, default=True\n",
      " |          If True, will return the parameters for this estimator and\n",
      " |          contained subobjects that are estimators.\n",
      " |      \n",
      " |      Returns\n",
      " |      -------\n",
      " |      params : mapping of string to any\n",
      " |          Parameter names mapped to their values.\n",
      " |  \n",
      " |  set_params(self, **params)\n",
      " |      Set the parameters of this estimator.\n",
      " |      \n",
      " |      The method works on simple estimators as well as on nested objects\n",
      " |      (such as pipelines). The latter have parameters of the form\n",
      " |      ``<component>__<parameter>`` so that it's possible to update each\n",
      " |      component of a nested object.\n",
      " |      \n",
      " |      Parameters\n",
      " |      ----------\n",
      " |      **params : dict\n",
      " |          Estimator parameters.\n",
      " |      \n",
      " |      Returns\n",
      " |      -------\n",
      " |      self : object\n",
      " |          Estimator instance.\n",
      "\n"
     ]
    }
   ],
   "source": [
    "help(MinMaxScaler)"
   ]
  },
  {
   "cell_type": "code",
   "execution_count": 16,
   "metadata": {},
   "outputs": [],
   "source": [
    "scaler = MinMaxScaler()"
   ]
  },
  {
   "cell_type": "code",
   "execution_count": 17,
   "metadata": {},
   "outputs": [
    {
     "data": {
      "text/plain": [
       "MinMaxScaler()"
      ]
     },
     "execution_count": 17,
     "metadata": {},
     "output_type": "execute_result"
    }
   ],
   "source": [
    "scaler.fit(X_train) # only fit train data to prevent data leakage "
   ]
  },
  {
   "cell_type": "code",
   "execution_count": 18,
   "metadata": {},
   "outputs": [],
   "source": [
    "X_train = scaler.transform(X_train)"
   ]
  },
  {
   "cell_type": "code",
   "execution_count": 19,
   "metadata": {},
   "outputs": [],
   "source": [
    "X_test = scaler.transform(X_test)"
   ]
  },
  {
   "cell_type": "markdown",
   "metadata": {},
   "source": [
    "**Part Two**: Creating and Training the Model "
   ]
  },
  {
   "cell_type": "code",
   "execution_count": 20,
   "metadata": {},
   "outputs": [],
   "source": [
    "from tensorflow.keras.models import Sequential\n",
    "from tensorflow.keras.layers import Dense"
   ]
  },
  {
   "cell_type": "code",
   "execution_count": 26,
   "metadata": {},
   "outputs": [],
   "source": [
    "model = Sequential()\n",
    "\n",
    "model.add(Dense(4,activation='relu'))\n",
    "model.add(Dense(4,activation='relu'))\n",
    "model.add(Dense(4,activation='relu'))\n",
    "\n",
    "# Final output node for prediction\n",
    "model.add(Dense(1))\n",
    "\n",
    "model.compile(optimizer='rmsprop',loss='mse')"
   ]
  },
  {
   "cell_type": "code",
   "execution_count": 27,
   "metadata": {},
   "outputs": [
    {
     "name": "stdout",
     "output_type": "stream",
     "text": [
      "Epoch 1/250\n",
      "22/22 [==============================] - 0s 594us/step - loss: 256695.1250\n",
      "Epoch 2/250\n",
      "22/22 [==============================] - 0s 571us/step - loss: 256644.6562\n",
      "Epoch 3/250\n",
      "22/22 [==============================] - 0s 552us/step - loss: 256595.0625\n",
      "Epoch 4/250\n",
      "22/22 [==============================] - 0s 514us/step - loss: 256531.8438\n",
      "Epoch 5/250\n",
      "22/22 [==============================] - 0s 520us/step - loss: 256457.9844\n",
      "Epoch 6/250\n",
      "22/22 [==============================] - 0s 523us/step - loss: 256371.5156\n",
      "Epoch 7/250\n",
      "22/22 [==============================] - 0s 469us/step - loss: 256187.3125\n",
      "Epoch 8/250\n",
      "22/22 [==============================] - 0s 435us/step - loss: 255791.3594\n",
      "Epoch 9/250\n",
      "22/22 [==============================] - 0s 453us/step - loss: 255347.4062\n",
      "Epoch 10/250\n",
      "22/22 [==============================] - 0s 495us/step - loss: 254862.5156\n",
      "Epoch 11/250\n",
      "22/22 [==============================] - 0s 445us/step - loss: 254320.4531\n",
      "Epoch 12/250\n",
      "22/22 [==============================] - 0s 444us/step - loss: 253715.1562\n",
      "Epoch 13/250\n",
      "22/22 [==============================] - 0s 490us/step - loss: 253043.0781\n",
      "Epoch 14/250\n",
      "22/22 [==============================] - 0s 497us/step - loss: 252299.3594\n",
      "Epoch 15/250\n",
      "22/22 [==============================] - 0s 522us/step - loss: 251478.2812\n",
      "Epoch 16/250\n",
      "22/22 [==============================] - 0s 509us/step - loss: 250580.2031\n",
      "Epoch 17/250\n",
      "22/22 [==============================] - 0s 521us/step - loss: 249594.3750\n",
      "Epoch 18/250\n",
      "22/22 [==============================] - 0s 530us/step - loss: 248524.4844\n",
      "Epoch 19/250\n",
      "22/22 [==============================] - 0s 553us/step - loss: 247362.5156\n",
      "Epoch 20/250\n",
      "22/22 [==============================] - 0s 540us/step - loss: 246105.5312\n",
      "Epoch 21/250\n",
      "22/22 [==============================] - 0s 539us/step - loss: 244760.7969\n",
      "Epoch 22/250\n",
      "22/22 [==============================] - 0s 542us/step - loss: 243304.7344\n",
      "Epoch 23/250\n",
      "22/22 [==============================] - 0s 523us/step - loss: 241744.7969\n",
      "Epoch 24/250\n",
      "22/22 [==============================] - 0s 533us/step - loss: 240067.7500\n",
      "Epoch 25/250\n",
      "22/22 [==============================] - 0s 506us/step - loss: 238260.3438\n",
      "Epoch 26/250\n",
      "22/22 [==============================] - 0s 502us/step - loss: 236325.8125\n",
      "Epoch 27/250\n",
      "22/22 [==============================] - 0s 517us/step - loss: 234238.5625\n",
      "Epoch 28/250\n",
      "22/22 [==============================] - 0s 536us/step - loss: 232010.6250\n",
      "Epoch 29/250\n",
      "22/22 [==============================] - 0s 501us/step - loss: 229627.9062\n",
      "Epoch 30/250\n",
      "22/22 [==============================] - 0s 521us/step - loss: 227108.2812\n",
      "Epoch 31/250\n",
      "22/22 [==============================] - 0s 623us/step - loss: 224398.4219\n",
      "Epoch 32/250\n",
      "22/22 [==============================] - 0s 621us/step - loss: 221529.1875\n",
      "Epoch 33/250\n",
      "22/22 [==============================] - 0s 572us/step - loss: 218502.4062\n",
      "Epoch 34/250\n",
      "22/22 [==============================] - 0s 569us/step - loss: 215299.8906\n",
      "Epoch 35/250\n",
      "22/22 [==============================] - 0s 609us/step - loss: 211903.2188\n",
      "Epoch 36/250\n",
      "22/22 [==============================] - 0s 574us/step - loss: 208334.4062\n",
      "Epoch 37/250\n",
      "22/22 [==============================] - 0s 542us/step - loss: 204575.1562\n",
      "Epoch 38/250\n",
      "22/22 [==============================] - 0s 601us/step - loss: 200630.9062\n",
      "Epoch 39/250\n",
      "22/22 [==============================] - 0s 536us/step - loss: 196511.0000\n",
      "Epoch 40/250\n",
      "22/22 [==============================] - 0s 530us/step - loss: 192194.4062\n",
      "Epoch 41/250\n",
      "22/22 [==============================] - 0s 516us/step - loss: 187680.6094\n",
      "Epoch 42/250\n",
      "22/22 [==============================] - 0s 530us/step - loss: 182979.6250\n",
      "Epoch 43/250\n",
      "22/22 [==============================] - 0s 515us/step - loss: 178091.7344\n",
      "Epoch 44/250\n",
      "22/22 [==============================] - 0s 512us/step - loss: 173006.9219\n",
      "Epoch 45/250\n",
      "22/22 [==============================] - 0s 515us/step - loss: 167747.4531\n",
      "Epoch 46/250\n",
      "22/22 [==============================] - 0s 529us/step - loss: 162296.0156\n",
      "Epoch 47/250\n",
      "22/22 [==============================] - 0s 517us/step - loss: 156675.7812\n",
      "Epoch 48/250\n",
      "22/22 [==============================] - 0s 447us/step - loss: 150896.4062\n",
      "Epoch 49/250\n",
      "22/22 [==============================] - 0s 436us/step - loss: 144953.3594\n",
      "Epoch 50/250\n",
      "22/22 [==============================] - 0s 446us/step - loss: 138857.6562\n",
      "Epoch 51/250\n",
      "22/22 [==============================] - 0s 698us/step - loss: 132614.3125\n",
      "Epoch 52/250\n",
      "22/22 [==============================] - 0s 587us/step - loss: 126221.9766\n",
      "Epoch 53/250\n",
      "22/22 [==============================] - 0s 516us/step - loss: 119756.3047\n",
      "Epoch 54/250\n",
      "22/22 [==============================] - 0s 502us/step - loss: 113170.7109\n",
      "Epoch 55/250\n",
      "22/22 [==============================] - 0s 501us/step - loss: 106493.4375\n",
      "Epoch 56/250\n",
      "22/22 [==============================] - 0s 461us/step - loss: 99744.6406\n",
      "Epoch 57/250\n",
      "22/22 [==============================] - 0s 444us/step - loss: 92954.9219\n",
      "Epoch 58/250\n",
      "22/22 [==============================] - 0s 473us/step - loss: 86168.4844\n",
      "Epoch 59/250\n",
      "22/22 [==============================] - 0s 475us/step - loss: 79382.5078\n",
      "Epoch 60/250\n",
      "22/22 [==============================] - 0s 437us/step - loss: 72656.6562\n",
      "Epoch 61/250\n",
      "22/22 [==============================] - 0s 457us/step - loss: 65930.3516\n",
      "Epoch 62/250\n",
      "22/22 [==============================] - 0s 485us/step - loss: 59338.9531\n",
      "Epoch 63/250\n",
      "22/22 [==============================] - 0s 462us/step - loss: 52879.1484\n",
      "Epoch 64/250\n",
      "22/22 [==============================] - 0s 442us/step - loss: 46558.8125\n",
      "Epoch 65/250\n",
      "22/22 [==============================] - 0s 459us/step - loss: 40487.0039\n",
      "Epoch 66/250\n",
      "22/22 [==============================] - 0s 454us/step - loss: 34671.9336\n",
      "Epoch 67/250\n",
      "22/22 [==============================] - 0s 466us/step - loss: 29183.6562\n",
      "Epoch 68/250\n",
      "22/22 [==============================] - 0s 503us/step - loss: 24009.7793\n",
      "Epoch 69/250\n",
      "22/22 [==============================] - 0s 542us/step - loss: 19285.1348\n",
      "Epoch 70/250\n",
      "22/22 [==============================] - 0s 559us/step - loss: 15056.8447\n",
      "Epoch 71/250\n",
      "22/22 [==============================] - 0s 511us/step - loss: 11313.7051\n",
      "Epoch 72/250\n",
      "22/22 [==============================] - 0s 513us/step - loss: 8102.0420\n",
      "Epoch 73/250\n",
      "22/22 [==============================] - 0s 518us/step - loss: 5508.3613\n",
      "Epoch 74/250\n",
      "22/22 [==============================] - 0s 601us/step - loss: 3637.7822\n",
      "Epoch 75/250\n",
      "22/22 [==============================] - 0s 531us/step - loss: 2475.7014\n",
      "Epoch 76/250\n",
      "22/22 [==============================] - 0s 445us/step - loss: 1925.6907\n",
      "Epoch 77/250\n",
      "22/22 [==============================] - 0s 422us/step - loss: 1762.6681\n",
      "Epoch 78/250\n",
      "22/22 [==============================] - 0s 463us/step - loss: 1723.4353\n",
      "Epoch 79/250\n",
      "22/22 [==============================] - 0s 454us/step - loss: 1689.2708\n",
      "Epoch 80/250\n",
      "22/22 [==============================] - 0s 444us/step - loss: 1655.5698\n",
      "Epoch 81/250\n",
      "22/22 [==============================] - 0s 435us/step - loss: 1625.2079\n",
      "Epoch 82/250\n",
      "22/22 [==============================] - 0s 442us/step - loss: 1591.8527\n",
      "Epoch 83/250\n",
      "22/22 [==============================] - 0s 418us/step - loss: 1559.1404\n",
      "Epoch 84/250\n",
      "22/22 [==============================] - 0s 429us/step - loss: 1527.4182\n",
      "Epoch 85/250\n",
      "22/22 [==============================] - 0s 444us/step - loss: 1490.7145\n",
      "Epoch 86/250\n",
      "22/22 [==============================] - 0s 413us/step - loss: 1461.4498\n",
      "Epoch 87/250\n",
      "22/22 [==============================] - 0s 456us/step - loss: 1430.6108\n",
      "Epoch 88/250\n",
      "22/22 [==============================] - 0s 431us/step - loss: 1395.8604\n",
      "Epoch 89/250\n",
      "22/22 [==============================] - 0s 448us/step - loss: 1359.7990\n",
      "Epoch 90/250\n",
      "22/22 [==============================] - 0s 424us/step - loss: 1335.2141\n",
      "Epoch 91/250\n",
      "22/22 [==============================] - 0s 440us/step - loss: 1306.0629\n",
      "Epoch 92/250\n",
      "22/22 [==============================] - 0s 428us/step - loss: 1275.8143\n",
      "Epoch 93/250\n",
      "22/22 [==============================] - 0s 463us/step - loss: 1244.1697\n",
      "Epoch 94/250\n"
     ]
    },
    {
     "name": "stdout",
     "output_type": "stream",
     "text": [
      "22/22 [==============================] - 0s 463us/step - loss: 1209.3037\n",
      "Epoch 95/250\n",
      "22/22 [==============================] - 0s 418us/step - loss: 1181.6187\n",
      "Epoch 96/250\n",
      "22/22 [==============================] - 0s 448us/step - loss: 1150.7860\n",
      "Epoch 97/250\n",
      "22/22 [==============================] - 0s 474us/step - loss: 1121.2911\n",
      "Epoch 98/250\n",
      "22/22 [==============================] - 0s 435us/step - loss: 1089.6737\n",
      "Epoch 99/250\n",
      "22/22 [==============================] - 0s 420us/step - loss: 1061.3732\n",
      "Epoch 100/250\n",
      "22/22 [==============================] - 0s 472us/step - loss: 1033.8546\n",
      "Epoch 101/250\n",
      "22/22 [==============================] - 0s 442us/step - loss: 1000.2832\n",
      "Epoch 102/250\n",
      "22/22 [==============================] - 0s 426us/step - loss: 973.6194\n",
      "Epoch 103/250\n",
      "22/22 [==============================] - 0s 470us/step - loss: 942.6290\n",
      "Epoch 104/250\n",
      "22/22 [==============================] - 0s 457us/step - loss: 909.3488\n",
      "Epoch 105/250\n",
      "22/22 [==============================] - 0s 426us/step - loss: 880.7963\n",
      "Epoch 106/250\n",
      "22/22 [==============================] - 0s 455us/step - loss: 850.5584\n",
      "Epoch 107/250\n",
      "22/22 [==============================] - 0s 435us/step - loss: 824.7759\n",
      "Epoch 108/250\n",
      "22/22 [==============================] - 0s 425us/step - loss: 794.9102\n",
      "Epoch 109/250\n",
      "22/22 [==============================] - 0s 453us/step - loss: 768.5203\n",
      "Epoch 110/250\n",
      "22/22 [==============================] - 0s 435us/step - loss: 742.8005\n",
      "Epoch 111/250\n",
      "22/22 [==============================] - 0s 434us/step - loss: 715.5405\n",
      "Epoch 112/250\n",
      "22/22 [==============================] - 0s 449us/step - loss: 693.1888\n",
      "Epoch 113/250\n",
      "22/22 [==============================] - 0s 466us/step - loss: 670.0518\n",
      "Epoch 114/250\n",
      "22/22 [==============================] - 0s 456us/step - loss: 643.9155\n",
      "Epoch 115/250\n",
      "22/22 [==============================] - 0s 501us/step - loss: 621.1735\n",
      "Epoch 116/250\n",
      "22/22 [==============================] - 0s 455us/step - loss: 597.2799\n",
      "Epoch 117/250\n",
      "22/22 [==============================] - 0s 405us/step - loss: 572.7695\n",
      "Epoch 118/250\n",
      "22/22 [==============================] - 0s 530us/step - loss: 549.3755\n",
      "Epoch 119/250\n",
      "22/22 [==============================] - 0s 475us/step - loss: 528.3630\n",
      "Epoch 120/250\n",
      "22/22 [==============================] - 0s 399us/step - loss: 508.0055\n",
      "Epoch 121/250\n",
      "22/22 [==============================] - 0s 454us/step - loss: 489.9050\n",
      "Epoch 122/250\n",
      "22/22 [==============================] - 0s 478us/step - loss: 470.4031\n",
      "Epoch 123/250\n",
      "22/22 [==============================] - 0s 421us/step - loss: 449.7917\n",
      "Epoch 124/250\n",
      "22/22 [==============================] - 0s 456us/step - loss: 430.4584\n",
      "Epoch 125/250\n",
      "22/22 [==============================] - 0s 501us/step - loss: 411.3277\n",
      "Epoch 126/250\n",
      "22/22 [==============================] - 0s 481us/step - loss: 390.0349\n",
      "Epoch 127/250\n",
      "22/22 [==============================] - 0s 421us/step - loss: 371.7757\n",
      "Epoch 128/250\n",
      "22/22 [==============================] - 0s 511us/step - loss: 352.9468\n",
      "Epoch 129/250\n",
      "22/22 [==============================] - 0s 461us/step - loss: 336.1516\n",
      "Epoch 130/250\n",
      "22/22 [==============================] - 0s 423us/step - loss: 319.7107\n",
      "Epoch 131/250\n",
      "22/22 [==============================] - 0s 460us/step - loss: 304.2508\n",
      "Epoch 132/250\n",
      "22/22 [==============================] - 0s 439us/step - loss: 286.5929\n",
      "Epoch 133/250\n",
      "22/22 [==============================] - 0s 402us/step - loss: 270.2517\n",
      "Epoch 134/250\n",
      "22/22 [==============================] - 0s 460us/step - loss: 252.7373\n",
      "Epoch 135/250\n",
      "22/22 [==============================] - 0s 447us/step - loss: 240.4034\n",
      "Epoch 136/250\n",
      "22/22 [==============================] - 0s 419us/step - loss: 226.0052\n",
      "Epoch 137/250\n",
      "22/22 [==============================] - 0s 430us/step - loss: 212.6169\n",
      "Epoch 138/250\n",
      "22/22 [==============================] - 0s 439us/step - loss: 197.8729\n",
      "Epoch 139/250\n",
      "22/22 [==============================] - 0s 424us/step - loss: 184.5677\n",
      "Epoch 140/250\n",
      "22/22 [==============================] - 0s 467us/step - loss: 171.8267\n",
      "Epoch 141/250\n",
      "22/22 [==============================] - 0s 464us/step - loss: 159.5074\n",
      "Epoch 142/250\n",
      "22/22 [==============================] - 0s 467us/step - loss: 149.7324\n",
      "Epoch 143/250\n",
      "22/22 [==============================] - 0s 472us/step - loss: 139.1560\n",
      "Epoch 144/250\n",
      "22/22 [==============================] - 0s 479us/step - loss: 127.5979\n",
      "Epoch 145/250\n",
      "22/22 [==============================] - 0s 456us/step - loss: 116.6151\n",
      "Epoch 146/250\n",
      "22/22 [==============================] - 0s 440us/step - loss: 107.9923\n",
      "Epoch 147/250\n",
      "22/22 [==============================] - 0s 492us/step - loss: 99.3526\n",
      "Epoch 148/250\n",
      "22/22 [==============================] - 0s 473us/step - loss: 92.4824\n",
      "Epoch 149/250\n",
      "22/22 [==============================] - 0s 486us/step - loss: 84.7170\n",
      "Epoch 150/250\n",
      "22/22 [==============================] - 0s 439us/step - loss: 77.6533\n",
      "Epoch 151/250\n",
      "22/22 [==============================] - 0s 453us/step - loss: 71.8229\n",
      "Epoch 152/250\n",
      "22/22 [==============================] - 0s 434us/step - loss: 67.5666\n",
      "Epoch 153/250\n",
      "22/22 [==============================] - 0s 415us/step - loss: 62.4117\n",
      "Epoch 154/250\n",
      "22/22 [==============================] - 0s 448us/step - loss: 57.4923\n",
      "Epoch 155/250\n",
      "22/22 [==============================] - 0s 412us/step - loss: 53.7569\n",
      "Epoch 156/250\n",
      "22/22 [==============================] - 0s 424us/step - loss: 49.9822\n",
      "Epoch 157/250\n",
      "22/22 [==============================] - 0s 442us/step - loss: 46.6016\n",
      "Epoch 158/250\n",
      "22/22 [==============================] - 0s 403us/step - loss: 43.8002\n",
      "Epoch 159/250\n",
      "22/22 [==============================] - 0s 430us/step - loss: 40.0729\n",
      "Epoch 160/250\n",
      "22/22 [==============================] - 0s 443us/step - loss: 38.1498\n",
      "Epoch 161/250\n",
      "22/22 [==============================] - 0s 407us/step - loss: 35.9717\n",
      "Epoch 162/250\n",
      "22/22 [==============================] - 0s 447us/step - loss: 33.9445\n",
      "Epoch 163/250\n",
      "22/22 [==============================] - 0s 441us/step - loss: 32.6157\n",
      "Epoch 164/250\n",
      "22/22 [==============================] - 0s 435us/step - loss: 30.8918\n",
      "Epoch 165/250\n",
      "22/22 [==============================] - 0s 448us/step - loss: 29.5799\n",
      "Epoch 166/250\n",
      "22/22 [==============================] - 0s 450us/step - loss: 28.8308\n",
      "Epoch 167/250\n",
      "22/22 [==============================] - 0s 445us/step - loss: 28.1117\n",
      "Epoch 168/250\n",
      "22/22 [==============================] - 0s 442us/step - loss: 27.1323\n",
      "Epoch 169/250\n",
      "22/22 [==============================] - 0s 494us/step - loss: 26.8158\n",
      "Epoch 170/250\n",
      "22/22 [==============================] - 0s 478us/step - loss: 26.4033\n",
      "Epoch 171/250\n",
      "22/22 [==============================] - 0s 460us/step - loss: 26.0621\n",
      "Epoch 172/250\n",
      "22/22 [==============================] - 0s 497us/step - loss: 25.3600\n",
      "Epoch 173/250\n",
      "22/22 [==============================] - 0s 434us/step - loss: 25.3848\n",
      "Epoch 174/250\n",
      "22/22 [==============================] - 0s 414us/step - loss: 25.0015\n",
      "Epoch 175/250\n",
      "22/22 [==============================] - 0s 437us/step - loss: 25.6491\n",
      "Epoch 176/250\n",
      "22/22 [==============================] - 0s 424us/step - loss: 24.4663\n",
      "Epoch 177/250\n",
      "22/22 [==============================] - 0s 422us/step - loss: 24.6829\n",
      "Epoch 178/250\n",
      "22/22 [==============================] - 0s 456us/step - loss: 24.8932\n",
      "Epoch 179/250\n",
      "22/22 [==============================] - 0s 424us/step - loss: 24.5295\n",
      "Epoch 180/250\n",
      "22/22 [==============================] - 0s 424us/step - loss: 24.6614\n",
      "Epoch 181/250\n",
      "22/22 [==============================] - 0s 445us/step - loss: 24.6435\n",
      "Epoch 182/250\n",
      "22/22 [==============================] - 0s 427us/step - loss: 24.3021\n",
      "Epoch 183/250\n",
      "22/22 [==============================] - 0s 423us/step - loss: 24.0950\n",
      "Epoch 184/250\n",
      "22/22 [==============================] - 0s 458us/step - loss: 24.4832\n",
      "Epoch 185/250\n",
      "22/22 [==============================] - 0s 430us/step - loss: 24.4110\n",
      "Epoch 186/250\n",
      "22/22 [==============================] - 0s 444us/step - loss: 24.3304\n",
      "Epoch 187/250\n",
      "22/22 [==============================] - 0s 486us/step - loss: 24.1026\n",
      "Epoch 188/250\n",
      "22/22 [==============================] - 0s 457us/step - loss: 24.4376\n",
      "Epoch 189/250\n"
     ]
    },
    {
     "name": "stdout",
     "output_type": "stream",
     "text": [
      "22/22 [==============================] - 0s 434us/step - loss: 24.9872\n",
      "Epoch 190/250\n",
      "22/22 [==============================] - 0s 490us/step - loss: 24.2137\n",
      "Epoch 191/250\n",
      "22/22 [==============================] - 0s 468us/step - loss: 24.4762\n",
      "Epoch 192/250\n",
      "22/22 [==============================] - 0s 417us/step - loss: 24.3404\n",
      "Epoch 193/250\n",
      "22/22 [==============================] - 0s 462us/step - loss: 24.6129\n",
      "Epoch 194/250\n",
      "22/22 [==============================] - 0s 474us/step - loss: 24.0027\n",
      "Epoch 195/250\n",
      "22/22 [==============================] - 0s 431us/step - loss: 24.6073\n",
      "Epoch 196/250\n",
      "22/22 [==============================] - 0s 465us/step - loss: 24.4666\n",
      "Epoch 197/250\n",
      "22/22 [==============================] - 0s 464us/step - loss: 24.1094\n",
      "Epoch 198/250\n",
      "22/22 [==============================] - 0s 425us/step - loss: 24.3736\n",
      "Epoch 199/250\n",
      "22/22 [==============================] - 0s 425us/step - loss: 24.5545\n",
      "Epoch 200/250\n",
      "22/22 [==============================] - 0s 501us/step - loss: 24.0090\n",
      "Epoch 201/250\n",
      "22/22 [==============================] - 0s 459us/step - loss: 24.2873\n",
      "Epoch 202/250\n",
      "22/22 [==============================] - 0s 435us/step - loss: 24.3599\n",
      "Epoch 203/250\n",
      "22/22 [==============================] - 0s 491us/step - loss: 24.3555\n",
      "Epoch 204/250\n",
      "22/22 [==============================] - 0s 492us/step - loss: 24.4470\n",
      "Epoch 205/250\n",
      "22/22 [==============================] - 0s 520us/step - loss: 23.8778\n",
      "Epoch 206/250\n",
      "22/22 [==============================] - 0s 689us/step - loss: 24.2317\n",
      "Epoch 207/250\n",
      "22/22 [==============================] - 0s 647us/step - loss: 24.2720\n",
      "Epoch 208/250\n",
      "22/22 [==============================] - 0s 532us/step - loss: 24.4679\n",
      "Epoch 209/250\n",
      "22/22 [==============================] - 0s 542us/step - loss: 24.2029\n",
      "Epoch 210/250\n",
      "22/22 [==============================] - 0s 552us/step - loss: 24.5085\n",
      "Epoch 211/250\n",
      "22/22 [==============================] - 0s 527us/step - loss: 24.5743\n",
      "Epoch 212/250\n",
      "22/22 [==============================] - 0s 492us/step - loss: 24.2920\n",
      "Epoch 213/250\n",
      "22/22 [==============================] - 0s 472us/step - loss: 24.5244\n",
      "Epoch 214/250\n",
      "22/22 [==============================] - 0s 478us/step - loss: 24.0474\n",
      "Epoch 215/250\n",
      "22/22 [==============================] - 0s 502us/step - loss: 24.6645\n",
      "Epoch 216/250\n",
      "22/22 [==============================] - 0s 446us/step - loss: 24.4571\n",
      "Epoch 217/250\n",
      "22/22 [==============================] - 0s 495us/step - loss: 24.2732\n",
      "Epoch 218/250\n",
      "22/22 [==============================] - 0s 555us/step - loss: 24.1436\n",
      "Epoch 219/250\n",
      "22/22 [==============================] - 0s 508us/step - loss: 24.2468\n",
      "Epoch 220/250\n",
      "22/22 [==============================] - 0s 483us/step - loss: 24.3177\n",
      "Epoch 221/250\n",
      "22/22 [==============================] - 0s 517us/step - loss: 24.7292\n",
      "Epoch 222/250\n",
      "22/22 [==============================] - 0s 591us/step - loss: 24.1576\n",
      "Epoch 223/250\n",
      "22/22 [==============================] - 0s 573us/step - loss: 24.3270\n",
      "Epoch 224/250\n",
      "22/22 [==============================] - 0s 565us/step - loss: 24.2009\n",
      "Epoch 225/250\n",
      "22/22 [==============================] - 0s 564us/step - loss: 24.3554\n",
      "Epoch 226/250\n",
      "22/22 [==============================] - 0s 533us/step - loss: 24.3328\n",
      "Epoch 227/250\n",
      "22/22 [==============================] - 0s 514us/step - loss: 24.3721\n",
      "Epoch 228/250\n",
      "22/22 [==============================] - 0s 544us/step - loss: 24.5688\n",
      "Epoch 229/250\n",
      "22/22 [==============================] - 0s 590us/step - loss: 24.4134\n",
      "Epoch 230/250\n",
      "22/22 [==============================] - 0s 606us/step - loss: 24.5456\n",
      "Epoch 231/250\n",
      "22/22 [==============================] - 0s 580us/step - loss: 24.2847\n",
      "Epoch 232/250\n",
      "22/22 [==============================] - 0s 602us/step - loss: 24.7557\n",
      "Epoch 233/250\n",
      "22/22 [==============================] - 0s 608us/step - loss: 24.6465\n",
      "Epoch 234/250\n",
      "22/22 [==============================] - 0s 568us/step - loss: 24.2416\n",
      "Epoch 235/250\n",
      "22/22 [==============================] - 0s 639us/step - loss: 24.4881\n",
      "Epoch 236/250\n",
      "22/22 [==============================] - 0s 633us/step - loss: 24.5180\n",
      "Epoch 237/250\n",
      "22/22 [==============================] - 0s 635us/step - loss: 24.1802\n",
      "Epoch 238/250\n",
      "22/22 [==============================] - 0s 621us/step - loss: 24.5919\n",
      "Epoch 239/250\n",
      "22/22 [==============================] - 0s 657us/step - loss: 24.3236\n",
      "Epoch 240/250\n",
      "22/22 [==============================] - 0s 605us/step - loss: 24.4259\n",
      "Epoch 241/250\n",
      "22/22 [==============================] - 0s 577us/step - loss: 24.4398\n",
      "Epoch 242/250\n",
      "22/22 [==============================] - 0s 672us/step - loss: 24.4634\n",
      "Epoch 243/250\n",
      "22/22 [==============================] - 0s 579us/step - loss: 24.5697\n",
      "Epoch 244/250\n",
      "22/22 [==============================] - 0s 604us/step - loss: 24.3607\n",
      "Epoch 245/250\n",
      "22/22 [==============================] - 0s 614us/step - loss: 24.7260\n",
      "Epoch 246/250\n",
      "22/22 [==============================] - 0s 605us/step - loss: 24.1398\n",
      "Epoch 247/250\n",
      "22/22 [==============================] - 0s 585us/step - loss: 24.1256\n",
      "Epoch 248/250\n",
      "22/22 [==============================] - 0s 598us/step - loss: 24.4596\n",
      "Epoch 249/250\n",
      "22/22 [==============================] - 0s 580us/step - loss: 23.9522\n",
      "Epoch 250/250\n",
      "22/22 [==============================] - 0s 578us/step - loss: 24.5579\n"
     ]
    },
    {
     "data": {
      "text/plain": [
       "<tensorflow.python.keras.callbacks.History at 0x7f9bf6989340>"
      ]
     },
     "execution_count": 27,
     "metadata": {},
     "output_type": "execute_result"
    }
   ],
   "source": [
    "model.fit(x=X_train, y=y_train, epochs=250)"
   ]
  },
  {
   "cell_type": "code",
   "execution_count": 28,
   "metadata": {},
   "outputs": [
    {
     "data": {
      "text/plain": [
       "<matplotlib.axes._subplots.AxesSubplot at 0x7f9bf6df45e0>"
      ]
     },
     "execution_count": 28,
     "metadata": {},
     "output_type": "execute_result"
    },
    {
     "data": {
      "image/png": "[encoded data removed]",
      "text/plain": [
       "<Figure size 432x288 with 1 Axes>"
      ]
     },
     "metadata": {
      "needs_background": "light"
     },
     "output_type": "display_data"
    }
   ],
   "source": [
    "loss_df = pd.DataFrame(model.history.history)\n",
    "loss_df.plot()"
   ]
  },
  {
   "cell_type": "markdown",
   "metadata": {},
   "source": [
    "**Part Three**: Model Evaluation "
   ]
  },
  {
   "cell_type": "code",
   "execution_count": 29,
   "metadata": {},
   "outputs": [
    {
     "data": {
      "text/plain": [
       "24.934871673583984"
      ]
     },
     "execution_count": 29,
     "metadata": {},
     "output_type": "execute_result"
    }
   ],
   "source": [
    "# Model loss on test sets \n",
    "model.evaluate(X_test,y_test,verbose=0)"
   ]
  },
  {
   "cell_type": "code",
   "execution_count": 30,
   "metadata": {},
   "outputs": [
    {
     "data": {
      "text/plain": [
       "23.925804138183594"
      ]
     },
     "execution_count": 30,
     "metadata": {},
     "output_type": "execute_result"
    }
   ],
   "source": [
    "model.evaluate(X_train,y_train, verbose=0)"
   ]
  },
  {
   "cell_type": "code",
   "execution_count": 32,
   "metadata": {},
   "outputs": [],
   "source": [
    "test_predictions = model.predict(X_test)\n",
    "\n",
    "test_predictions = pd.Series(test_predictions.reshape(300,))"
   ]
  },
  {
   "cell_type": "code",
   "execution_count": 34,
   "metadata": {},
   "outputs": [],
   "source": [
    "pred_df = pd.DataFrame(y_test, columns=['Test True Y'])\n",
    "pred_df = pd.concat([pred_df, test_predictions], axis=1)"
   ]
  },
  {
   "cell_type": "code",
   "execution_count": 38,
   "metadata": {},
   "outputs": [
    {
     "data": {
      "text/html": [
       "<div>\n",
       "<style scoped>\n",
       "    .dataframe tbody tr th:only-of-type {\n",
       "        vertical-align: middle;\n",
       "    }\n",
       "\n",
       "    .dataframe tbody tr th {\n",
       "        vertical-align: top;\n",
       "    }\n",
       "\n",
       "    .dataframe thead th {\n",
       "        text-align: right;\n",
       "    }\n",
       "</style>\n",
       "<table border=\"1\" class=\"dataframe\">\n",
       "  <thead>\n",
       "    <tr style=\"text-align: right;\">\n",
       "      <th></th>\n",
       "      <th>Test True Y</th>\n",
       "      <th>Model Predictions</th>\n",
       "    </tr>\n",
       "  </thead>\n",
       "  <tbody>\n",
       "    <tr>\n",
       "      <th>0</th>\n",
       "      <td>402.296319</td>\n",
       "      <td>405.163818</td>\n",
       "    </tr>\n",
       "    <tr>\n",
       "      <th>1</th>\n",
       "      <td>624.156198</td>\n",
       "      <td>623.426270</td>\n",
       "    </tr>\n",
       "    <tr>\n",
       "      <th>2</th>\n",
       "      <td>582.455066</td>\n",
       "      <td>592.015442</td>\n",
       "    </tr>\n",
       "    <tr>\n",
       "      <th>3</th>\n",
       "      <td>578.588606</td>\n",
       "      <td>572.112549</td>\n",
       "    </tr>\n",
       "    <tr>\n",
       "      <th>4</th>\n",
       "      <td>371.224104</td>\n",
       "      <td>366.493591</td>\n",
       "    </tr>\n",
       "    <tr>\n",
       "      <th>...</th>\n",
       "      <td>...</td>\n",
       "      <td>...</td>\n",
       "    </tr>\n",
       "    <tr>\n",
       "      <th>295</th>\n",
       "      <td>525.704657</td>\n",
       "      <td>528.928467</td>\n",
       "    </tr>\n",
       "    <tr>\n",
       "      <th>296</th>\n",
       "      <td>502.909473</td>\n",
       "      <td>515.220276</td>\n",
       "    </tr>\n",
       "    <tr>\n",
       "      <th>297</th>\n",
       "      <td>612.727910</td>\n",
       "      <td>609.536926</td>\n",
       "    </tr>\n",
       "    <tr>\n",
       "      <th>298</th>\n",
       "      <td>417.569725</td>\n",
       "      <td>416.827393</td>\n",
       "    </tr>\n",
       "    <tr>\n",
       "      <th>299</th>\n",
       "      <td>410.538250</td>\n",
       "      <td>410.752228</td>\n",
       "    </tr>\n",
       "  </tbody>\n",
       "</table>\n",
       "<p>300 rows × 2 columns</p>\n",
       "</div>"
      ],
      "text/plain": [
       "     Test True Y  Model Predictions\n",
       "0     402.296319         405.163818\n",
       "1     624.156198         623.426270\n",
       "2     582.455066         592.015442\n",
       "3     578.588606         572.112549\n",
       "4     371.224104         366.493591\n",
       "..           ...                ...\n",
       "295   525.704657         528.928467\n",
       "296   502.909473         515.220276\n",
       "297   612.727910         609.536926\n",
       "298   417.569725         416.827393\n",
       "299   410.538250         410.752228\n",
       "\n",
       "[300 rows x 2 columns]"
      ]
     },
     "execution_count": 38,
     "metadata": {},
     "output_type": "execute_result"
    }
   ],
   "source": [
    "pred_df.columns=['Test True Y','Model Predictions']\n",
    "pred_df"
   ]
  },
  {
   "cell_type": "code",
   "execution_count": 39,
   "metadata": {},
   "outputs": [
    {
     "data": {
      "text/plain": [
       "<matplotlib.axes._subplots.AxesSubplot at 0x7f9bf7ce87f0>"
      ]
     },
     "execution_count": 39,
     "metadata": {},
     "output_type": "execute_result"
    },
    {
     "data": {
      "image/png": "[encoded data removed]",
      "text/plain": [
       "<Figure size 432x288 with 1 Axes>"
      ]
     },
     "metadata": {
      "needs_background": "light"
     },
     "output_type": "display_data"
    }
   ],
   "source": [
    "sns.scatterplot(x='Test True Y', y ='Model Predictions', data=pred_df)"
   ]
  },
  {
   "cell_type": "code",
   "execution_count": 40,
   "metadata": {},
   "outputs": [],
   "source": [
    "from sklearn.metrics import mean_absolute_error, mean_squared_error"
   ]
  },
  {
   "cell_type": "code",
   "execution_count": 41,
   "metadata": {},
   "outputs": [
    {
     "data": {
      "text/plain": [
       "3.998426411139252"
      ]
     },
     "execution_count": 41,
     "metadata": {},
     "output_type": "execute_result"
    }
   ],
   "source": [
    "mean_absolute_error(pred_df['Test True Y'], pred_df['Model Predictions'])"
   ]
  },
  {
   "cell_type": "code",
   "execution_count": 43,
   "metadata": {},
   "outputs": [],
   "source": [
    "# New prediction \n",
    "new_gem = [[998,1000]]\n",
    "\n",
    "new_gem = scaler.transform(new_gem)"
   ]
  },
  {
   "cell_type": "code",
   "execution_count": 44,
   "metadata": {},
   "outputs": [
    {
     "data": {
      "text/plain": [
       "array([[419.56635]], dtype=float32)"
      ]
     },
     "execution_count": 44,
     "metadata": {},
     "output_type": "execute_result"
    }
   ],
   "source": [
    "model.predict(new_gem)"
   ]
  },
  {
   "cell_type": "code",
   "execution_count": 45,
   "metadata": {},
   "outputs": [],
   "source": [
    "# Save our model in h5 format \n",
    "from tensorflow.keras.models import load_model"
   ]
  },
  {
   "cell_type": "code",
   "execution_count": 46,
   "metadata": {},
   "outputs": [],
   "source": [
    "model.save('my_gem_model.h5')"
   ]
  },
  {
   "cell_type": "markdown",
   "metadata": {},
   "source": [
    "# 43. Keras Regression "
   ]
  },
  {
   "cell_type": "markdown",
   "metadata": {},
   "source": [
    "## The Data\n",
    "#### Feature Columns\n",
    "    \n",
    "* id - Unique ID for each home sold\n",
    "* date - Date of the home sale\n",
    "* price - Price of each home sold\n",
    "* bedrooms - Number of bedrooms\n",
    "* bathrooms - Number of bathrooms, where .5 accounts for a room with a toilet but no shower\n",
    "* sqft_living - Square footage of the apartments interior living space\n",
    "* sqft_lot - Square footage of the land space\n",
    "* floors - Number of floors\n",
    "* waterfront - A dummy variable for whether the apartment was overlooking the waterfront or not\n",
    "* view - An index from 0 to 4 of how good the view of the property was\n",
    "* condition - An index from 1 to 5 on the condition of the apartment,\n",
    "* grade - An index from 1 to 13, where 1-3 falls short of building construction and design, 7 has an average level of construction and design, and 11-13 have a high quality level of construction and design.\n",
    "* sqft_above - The square footage of the interior housing space that is above ground level\n",
    "* sqft_basement - The square footage of the interior housing space that is below ground level\n",
    "* yr_built - The year the house was initially built\n",
    "* yr_renovated - The year of the house’s last renovation\n",
    "* zipcode - What zipcode area the house is in\n",
    "* lat - Lattitude\n",
    "* long - Longitude\n",
    "* sqft_living15 - The square footage of interior housing living space for the nearest 15 neighbors\n",
    "* sqft_lot15 - The square footage of the land lots of the nearest 15 neighbors"
   ]
  },
  {
   "cell_type": "markdown",
   "metadata": {},
   "source": [
    "#### Step 1. Exploratory Data Analysis "
   ]
  },
  {
   "cell_type": "code",
   "execution_count": 47,
   "metadata": {},
   "outputs": [],
   "source": [
    "import pandas as pd\n",
    "import numpy as np\n",
    "import matplotlib.pyplot as plt\n",
    "import seaborn as sns "
   ]
  },
  {
   "cell_type": "code",
   "execution_count": 49,
   "metadata": {},
   "outputs": [],
   "source": [
    "df = pd.read_csv('TF_2_Notebooks_and_Data/DATA/kc_house_data.csv')"
   ]
  },
  {
   "cell_type": "code",
   "execution_count": 51,
   "metadata": {},
   "outputs": [
    {
     "data": {
      "text/plain": [
       "id               0\n",
       "date             0\n",
       "price            0\n",
       "bedrooms         0\n",
       "bathrooms        0\n",
       "sqft_living      0\n",
       "sqft_lot         0\n",
       "floors           0\n",
       "waterfront       0\n",
       "view             0\n",
       "condition        0\n",
       "grade            0\n",
       "sqft_above       0\n",
       "sqft_basement    0\n",
       "yr_built         0\n",
       "yr_renovated     0\n",
       "zipcode          0\n",
       "lat              0\n",
       "long             0\n",
       "sqft_living15    0\n",
       "sqft_lot15       0\n",
       "dtype: int64"
      ]
     },
     "execution_count": 51,
     "metadata": {},
     "output_type": "execute_result"
    }
   ],
   "source": [
    "df.isnull().sum()"
   ]
  },
  {
   "cell_type": "code",
   "execution_count": 53,
   "metadata": {},
   "outputs": [
    {
     "data": {
      "text/html": [
       "<div>\n",
       "<style scoped>\n",
       "    .dataframe tbody tr th:only-of-type {\n",
       "        vertical-align: middle;\n",
       "    }\n",
       "\n",
       "    .dataframe tbody tr th {\n",
       "        vertical-align: top;\n",
       "    }\n",
       "\n",
       "    .dataframe thead th {\n",
       "        text-align: right;\n",
       "    }\n",
       "</style>\n",
       "<table border=\"1\" class=\"dataframe\">\n",
       "  <thead>\n",
       "    <tr style=\"text-align: right;\">\n",
       "      <th></th>\n",
       "      <th>count</th>\n",
       "      <th>mean</th>\n",
       "      <th>std</th>\n",
       "      <th>min</th>\n",
       "      <th>25%</th>\n",
       "      <th>50%</th>\n",
       "      <th>75%</th>\n",
       "      <th>max</th>\n",
       "    </tr>\n",
       "  </thead>\n",
       "  <tbody>\n",
       "    <tr>\n",
       "      <th>id</th>\n",
       "      <td>21597.0</td>\n",
       "      <td>4.580474e+09</td>\n",
       "      <td>2.876736e+09</td>\n",
       "      <td>1.000102e+06</td>\n",
       "      <td>2.123049e+09</td>\n",
       "      <td>3.904930e+09</td>\n",
       "      <td>7.308900e+09</td>\n",
       "      <td>9.900000e+09</td>\n",
       "    </tr>\n",
       "    <tr>\n",
       "      <th>price</th>\n",
       "      <td>21597.0</td>\n",
       "      <td>5.402966e+05</td>\n",
       "      <td>3.673681e+05</td>\n",
       "      <td>7.800000e+04</td>\n",
       "      <td>3.220000e+05</td>\n",
       "      <td>4.500000e+05</td>\n",
       "      <td>6.450000e+05</td>\n",
       "      <td>7.700000e+06</td>\n",
       "    </tr>\n",
       "    <tr>\n",
       "      <th>bedrooms</th>\n",
       "      <td>21597.0</td>\n",
       "      <td>3.373200e+00</td>\n",
       "      <td>9.262989e-01</td>\n",
       "      <td>1.000000e+00</td>\n",
       "      <td>3.000000e+00</td>\n",
       "      <td>3.000000e+00</td>\n",
       "      <td>4.000000e+00</td>\n",
       "      <td>3.300000e+01</td>\n",
       "    </tr>\n",
       "    <tr>\n",
       "      <th>bathrooms</th>\n",
       "      <td>21597.0</td>\n",
       "      <td>2.115826e+00</td>\n",
       "      <td>7.689843e-01</td>\n",
       "      <td>5.000000e-01</td>\n",
       "      <td>1.750000e+00</td>\n",
       "      <td>2.250000e+00</td>\n",
       "      <td>2.500000e+00</td>\n",
       "      <td>8.000000e+00</td>\n",
       "    </tr>\n",
       "    <tr>\n",
       "      <th>sqft_living</th>\n",
       "      <td>21597.0</td>\n",
       "      <td>2.080322e+03</td>\n",
       "      <td>9.181061e+02</td>\n",
       "      <td>3.700000e+02</td>\n",
       "      <td>1.430000e+03</td>\n",
       "      <td>1.910000e+03</td>\n",
       "      <td>2.550000e+03</td>\n",
       "      <td>1.354000e+04</td>\n",
       "    </tr>\n",
       "    <tr>\n",
       "      <th>sqft_lot</th>\n",
       "      <td>21597.0</td>\n",
       "      <td>1.509941e+04</td>\n",
       "      <td>4.141264e+04</td>\n",
       "      <td>5.200000e+02</td>\n",
       "      <td>5.040000e+03</td>\n",
       "      <td>7.618000e+03</td>\n",
       "      <td>1.068500e+04</td>\n",
       "      <td>1.651359e+06</td>\n",
       "    </tr>\n",
       "    <tr>\n",
       "      <th>floors</th>\n",
       "      <td>21597.0</td>\n",
       "      <td>1.494096e+00</td>\n",
       "      <td>5.396828e-01</td>\n",
       "      <td>1.000000e+00</td>\n",
       "      <td>1.000000e+00</td>\n",
       "      <td>1.500000e+00</td>\n",
       "      <td>2.000000e+00</td>\n",
       "      <td>3.500000e+00</td>\n",
       "    </tr>\n",
       "    <tr>\n",
       "      <th>waterfront</th>\n",
       "      <td>21597.0</td>\n",
       "      <td>7.547345e-03</td>\n",
       "      <td>8.654900e-02</td>\n",
       "      <td>0.000000e+00</td>\n",
       "      <td>0.000000e+00</td>\n",
       "      <td>0.000000e+00</td>\n",
       "      <td>0.000000e+00</td>\n",
       "      <td>1.000000e+00</td>\n",
       "    </tr>\n",
       "    <tr>\n",
       "      <th>view</th>\n",
       "      <td>21597.0</td>\n",
       "      <td>2.342918e-01</td>\n",
       "      <td>7.663898e-01</td>\n",
       "      <td>0.000000e+00</td>\n",
       "      <td>0.000000e+00</td>\n",
       "      <td>0.000000e+00</td>\n",
       "      <td>0.000000e+00</td>\n",
       "      <td>4.000000e+00</td>\n",
       "    </tr>\n",
       "    <tr>\n",
       "      <th>condition</th>\n",
       "      <td>21597.0</td>\n",
       "      <td>3.409825e+00</td>\n",
       "      <td>6.505456e-01</td>\n",
       "      <td>1.000000e+00</td>\n",
       "      <td>3.000000e+00</td>\n",
       "      <td>3.000000e+00</td>\n",
       "      <td>4.000000e+00</td>\n",
       "      <td>5.000000e+00</td>\n",
       "    </tr>\n",
       "    <tr>\n",
       "      <th>grade</th>\n",
       "      <td>21597.0</td>\n",
       "      <td>7.657915e+00</td>\n",
       "      <td>1.173200e+00</td>\n",
       "      <td>3.000000e+00</td>\n",
       "      <td>7.000000e+00</td>\n",
       "      <td>7.000000e+00</td>\n",
       "      <td>8.000000e+00</td>\n",
       "      <td>1.300000e+01</td>\n",
       "    </tr>\n",
       "    <tr>\n",
       "      <th>sqft_above</th>\n",
       "      <td>21597.0</td>\n",
       "      <td>1.788597e+03</td>\n",
       "      <td>8.277598e+02</td>\n",
       "      <td>3.700000e+02</td>\n",
       "      <td>1.190000e+03</td>\n",
       "      <td>1.560000e+03</td>\n",
       "      <td>2.210000e+03</td>\n",
       "      <td>9.410000e+03</td>\n",
       "    </tr>\n",
       "    <tr>\n",
       "      <th>sqft_basement</th>\n",
       "      <td>21597.0</td>\n",
       "      <td>2.917250e+02</td>\n",
       "      <td>4.426678e+02</td>\n",
       "      <td>0.000000e+00</td>\n",
       "      <td>0.000000e+00</td>\n",
       "      <td>0.000000e+00</td>\n",
       "      <td>5.600000e+02</td>\n",
       "      <td>4.820000e+03</td>\n",
       "    </tr>\n",
       "    <tr>\n",
       "      <th>yr_built</th>\n",
       "      <td>21597.0</td>\n",
       "      <td>1.971000e+03</td>\n",
       "      <td>2.937523e+01</td>\n",
       "      <td>1.900000e+03</td>\n",
       "      <td>1.951000e+03</td>\n",
       "      <td>1.975000e+03</td>\n",
       "      <td>1.997000e+03</td>\n",
       "      <td>2.015000e+03</td>\n",
       "    </tr>\n",
       "    <tr>\n",
       "      <th>yr_renovated</th>\n",
       "      <td>21597.0</td>\n",
       "      <td>8.446479e+01</td>\n",
       "      <td>4.018214e+02</td>\n",
       "      <td>0.000000e+00</td>\n",
       "      <td>0.000000e+00</td>\n",
       "      <td>0.000000e+00</td>\n",
       "      <td>0.000000e+00</td>\n",
       "      <td>2.015000e+03</td>\n",
       "    </tr>\n",
       "    <tr>\n",
       "      <th>zipcode</th>\n",
       "      <td>21597.0</td>\n",
       "      <td>9.807795e+04</td>\n",
       "      <td>5.351307e+01</td>\n",
       "      <td>9.800100e+04</td>\n",
       "      <td>9.803300e+04</td>\n",
       "      <td>9.806500e+04</td>\n",
       "      <td>9.811800e+04</td>\n",
       "      <td>9.819900e+04</td>\n",
       "    </tr>\n",
       "    <tr>\n",
       "      <th>lat</th>\n",
       "      <td>21597.0</td>\n",
       "      <td>4.756009e+01</td>\n",
       "      <td>1.385518e-01</td>\n",
       "      <td>4.715590e+01</td>\n",
       "      <td>4.747110e+01</td>\n",
       "      <td>4.757180e+01</td>\n",
       "      <td>4.767800e+01</td>\n",
       "      <td>4.777760e+01</td>\n",
       "    </tr>\n",
       "    <tr>\n",
       "      <th>long</th>\n",
       "      <td>21597.0</td>\n",
       "      <td>-1.222140e+02</td>\n",
       "      <td>1.407235e-01</td>\n",
       "      <td>-1.225190e+02</td>\n",
       "      <td>-1.223280e+02</td>\n",
       "      <td>-1.222310e+02</td>\n",
       "      <td>-1.221250e+02</td>\n",
       "      <td>-1.213150e+02</td>\n",
       "    </tr>\n",
       "    <tr>\n",
       "      <th>sqft_living15</th>\n",
       "      <td>21597.0</td>\n",
       "      <td>1.986620e+03</td>\n",
       "      <td>6.852305e+02</td>\n",
       "      <td>3.990000e+02</td>\n",
       "      <td>1.490000e+03</td>\n",
       "      <td>1.840000e+03</td>\n",
       "      <td>2.360000e+03</td>\n",
       "      <td>6.210000e+03</td>\n",
       "    </tr>\n",
       "    <tr>\n",
       "      <th>sqft_lot15</th>\n",
       "      <td>21597.0</td>\n",
       "      <td>1.275828e+04</td>\n",
       "      <td>2.727444e+04</td>\n",
       "      <td>6.510000e+02</td>\n",
       "      <td>5.100000e+03</td>\n",
       "      <td>7.620000e+03</td>\n",
       "      <td>1.008300e+04</td>\n",
       "      <td>8.712000e+05</td>\n",
       "    </tr>\n",
       "  </tbody>\n",
       "</table>\n",
       "</div>"
      ],
      "text/plain": [
       "                 count          mean           std           min  \\\n",
       "id             21597.0  4.580474e+09  2.876736e+09  1.000102e+06   \n",
       "price          21597.0  5.402966e+05  3.673681e+05  7.800000e+04   \n",
       "bedrooms       21597.0  3.373200e+00  9.262989e-01  1.000000e+00   \n",
       "bathrooms      21597.0  2.115826e+00  7.689843e-01  5.000000e-01   \n",
       "sqft_living    21597.0  2.080322e+03  9.181061e+02  3.700000e+02   \n",
       "sqft_lot       21597.0  1.509941e+04  4.141264e+04  5.200000e+02   \n",
       "floors         21597.0  1.494096e+00  5.396828e-01  1.000000e+00   \n",
       "waterfront     21597.0  7.547345e-03  8.654900e-02  0.000000e+00   \n",
       "view           21597.0  2.342918e-01  7.663898e-01  0.000000e+00   \n",
       "condition      21597.0  3.409825e+00  6.505456e-01  1.000000e+00   \n",
       "grade          21597.0  7.657915e+00  1.173200e+00  3.000000e+00   \n",
       "sqft_above     21597.0  1.788597e+03  8.277598e+02  3.700000e+02   \n",
       "sqft_basement  21597.0  2.917250e+02  4.426678e+02  0.000000e+00   \n",
       "yr_built       21597.0  1.971000e+03  2.937523e+01  1.900000e+03   \n",
       "yr_renovated   21597.0  8.446479e+01  4.018214e+02  0.000000e+00   \n",
       "zipcode        21597.0  9.807795e+04  5.351307e+01  9.800100e+04   \n",
       "lat            21597.0  4.756009e+01  1.385518e-01  4.715590e+01   \n",
       "long           21597.0 -1.222140e+02  1.407235e-01 -1.225190e+02   \n",
       "sqft_living15  21597.0  1.986620e+03  6.852305e+02  3.990000e+02   \n",
       "sqft_lot15     21597.0  1.275828e+04  2.727444e+04  6.510000e+02   \n",
       "\n",
       "                        25%           50%           75%           max  \n",
       "id             2.123049e+09  3.904930e+09  7.308900e+09  9.900000e+09  \n",
       "price          3.220000e+05  4.500000e+05  6.450000e+05  7.700000e+06  \n",
       "bedrooms       3.000000e+00  3.000000e+00  4.000000e+00  3.300000e+01  \n",
       "bathrooms      1.750000e+00  2.250000e+00  2.500000e+00  8.000000e+00  \n",
       "sqft_living    1.430000e+03  1.910000e+03  2.550000e+03  1.354000e+04  \n",
       "sqft_lot       5.040000e+03  7.618000e+03  1.068500e+04  1.651359e+06  \n",
       "floors         1.000000e+00  1.500000e+00  2.000000e+00  3.500000e+00  \n",
       "waterfront     0.000000e+00  0.000000e+00  0.000000e+00  1.000000e+00  \n",
       "view           0.000000e+00  0.000000e+00  0.000000e+00  4.000000e+00  \n",
       "condition      3.000000e+00  3.000000e+00  4.000000e+00  5.000000e+00  \n",
       "grade          7.000000e+00  7.000000e+00  8.000000e+00  1.300000e+01  \n",
       "sqft_above     1.190000e+03  1.560000e+03  2.210000e+03  9.410000e+03  \n",
       "sqft_basement  0.000000e+00  0.000000e+00  5.600000e+02  4.820000e+03  \n",
       "yr_built       1.951000e+03  1.975000e+03  1.997000e+03  2.015000e+03  \n",
       "yr_renovated   0.000000e+00  0.000000e+00  0.000000e+00  2.015000e+03  \n",
       "zipcode        9.803300e+04  9.806500e+04  9.811800e+04  9.819900e+04  \n",
       "lat            4.747110e+01  4.757180e+01  4.767800e+01  4.777760e+01  \n",
       "long          -1.223280e+02 -1.222310e+02 -1.221250e+02 -1.213150e+02  \n",
       "sqft_living15  1.490000e+03  1.840000e+03  2.360000e+03  6.210000e+03  \n",
       "sqft_lot15     5.100000e+03  7.620000e+03  1.008300e+04  8.712000e+05  "
      ]
     },
     "execution_count": 53,
     "metadata": {},
     "output_type": "execute_result"
    }
   ],
   "source": [
    "df.describe().transpose()"
   ]
  },
  {
   "cell_type": "code",
   "execution_count": 56,
   "metadata": {},
   "outputs": [
    {
     "data": {
      "text/plain": [
       "<matplotlib.axes._subplots.AxesSubplot at 0x7f9bf94aedf0>"
      ]
     },
     "execution_count": 56,
     "metadata": {},
     "output_type": "execute_result"
    },
    {
     "data": {
      "image/png": "[encoded data removed]",
      "text/plain": [
       "<Figure size 720x432 with 1 Axes>"
      ]
     },
     "metadata": {
      "needs_background": "light"
     },
     "output_type": "display_data"
    }
   ],
   "source": [
    "plt.figure(figsize=(10,6))\n",
    "sns.distplot(df['price'])"
   ]
  },
  {
   "cell_type": "code",
   "execution_count": 57,
   "metadata": {},
   "outputs": [
    {
     "data": {
      "text/plain": [
       "<matplotlib.axes._subplots.AxesSubplot at 0x7f9bf7ae8310>"
      ]
     },
     "execution_count": 57,
     "metadata": {},
     "output_type": "execute_result"
    },
    {
     "data": {
      "image/png": "[encoded data removed]",
      "text/plain": [
       "<Figure size 432x288 with 1 Axes>"
      ]
     },
     "metadata": {
      "needs_background": "light"
     },
     "output_type": "display_data"
    }
   ],
   "source": [
    "sns.countplot(df['bedrooms'])"
   ]
  },
  {
   "cell_type": "code",
   "execution_count": 82,
   "metadata": {},
   "outputs": [
    {
     "data": {
      "text/plain": [
       "zipcode         -0.053402\n",
       "id              -0.016772\n",
       "long             0.022036\n",
       "condition        0.036056\n",
       "yr_built         0.053953\n",
       "sqft_lot15       0.082845\n",
       "sqft_lot         0.089876\n",
       "yr_renovated     0.126424\n",
       "floors           0.256804\n",
       "waterfront       0.266398\n",
       "lat              0.306692\n",
       "bedrooms         0.308787\n",
       "sqft_basement    0.323799\n",
       "view             0.397370\n",
       "bathrooms        0.525906\n",
       "sqft_living15    0.585241\n",
       "sqft_above       0.605368\n",
       "grade            0.667951\n",
       "sqft_living      0.701917\n",
       "price            1.000000\n",
       "Name: price, dtype: float64"
      ]
     },
     "execution_count": 82,
     "metadata": {},
     "output_type": "execute_result"
    }
   ],
   "source": [
    "df.corr()['price'].sort_values()"
   ]
  },
  {
   "cell_type": "code",
   "execution_count": 83,
   "metadata": {},
   "outputs": [
    {
     "data": {
      "text/plain": [
       "<matplotlib.axes._subplots.AxesSubplot at 0x7f9bf8e3f3a0>"
      ]
     },
     "execution_count": 83,
     "metadata": {},
     "output_type": "execute_result"
    },
    {
     "data": {
      "image/png": "[encoded data removed]",
      "text/plain": [
       "<Figure size 432x288 with 1 Axes>"
      ]
     },
     "metadata": {
      "needs_background": "light"
     },
     "output_type": "display_data"
    }
   ],
   "source": [
    "sns.scatterplot(x='price',y='sqft_living', data=df)"
   ]
  },
  {
   "cell_type": "code",
   "execution_count": null,
   "metadata": {},
   "outputs": [],
   "source": [
    " "
   ]
  }
 ],
 "metadata": {
  "kernelspec": {
   "display_name": "Python 3",
   "language": "python",
   "name": "python3"
  },
  "language_info": {
   "codemirror_mode": {
    "name": "ipython",
    "version": 3
   },
   "file_extension": ".py",
   "mimetype": "text/x-python",
   "name": "python",
   "nbconvert_exporter": "python",
   "pygments_lexer": "ipython3",
   "version": "3.8.3"
  }
 },
 "nbformat": 4,
 "nbformat_minor": 4
}
